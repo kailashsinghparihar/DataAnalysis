{
 "cells": [
  {
   "cell_type": "code",
   "execution_count": null,
   "metadata": {},
   "outputs": [],
   "source": [
    "from tkinter import*\n",
    "root = Tk()\n",
    "root.mainloop()"
   ]
  },
  {
   "cell_type": "code",
   "execution_count": null,
   "metadata": {},
   "outputs": [],
   "source": [
    "from tkinter import*\n",
    "root = Tk()\n",
    "root.title(\"My GUI\")\n",
    "root.mainloop()"
   ]
  },
  {
   "cell_type": "code",
   "execution_count": null,
   "metadata": {},
   "outputs": [],
   "source": [
    "import os\n",
    "print(os.getcwd())"
   ]
  },
  {
   "cell_type": "code",
   "execution_count": null,
   "metadata": {},
   "outputs": [],
   "source": [
    "from tkinter import*\n",
    "root = Tk()\n",
    "root.title(\"My GUI\")\n",
    "c=Canvas(root,width=600,height=400)\n",
    "c.create_line(0,50,600,50,width=5,fill='red',activefill='blue')\n",
    "c.create_line(49,99,600,50,width=5,fill='red',activefill='blue')\n",
    "c.create_rectangle(50,100,550,350,fill='yellow',activefill='green')\n",
    "c.pack()\n",
    "root.mainloop()"
   ]
  },
  {
   "cell_type": "code",
   "execution_count": null,
   "metadata": {},
   "outputs": [],
   "source": [
    "from tkinter import*\n",
    "root = Tk()\n",
    "root.title(\"My GUI\")\n",
    "c=Canvas(root,width=600,height=400)\n",
    "c.create_line(0,50,600,50,width=5,fill='red',activefill='blue')\n",
    "\n",
    "c.create_arc(50,100,550,350,start=0,extent=180,fill='blue')\n",
    "c.create_arc(50,100,550,350,start=180,extent=90,)\n",
    "\n",
    "\n",
    "c.pack()\n",
    "root.mainloop()"
   ]
  },
  {
   "cell_type": "code",
   "execution_count": null,
   "metadata": {},
   "outputs": [],
   "source": [
    "from tkinter import*\n",
    "root = Tk()\n",
    "root.title(\"My GUI\")\n",
    "root.wm_iconbitmap(\"mario.ico\")\n",
    "c=Canvas(root,width=600,height=400)\n",
    "c.create_polygon(50,50,350,50,550,350,250,350,fill='yellow',activefill='green')\n",
    "c.create_text(100,40,text=\"IITM, Janakpuri \",font=('comic',15,'bold'))\n",
    "\n",
    "c.pack()\n",
    "root.mainloop()"
   ]
  },
  {
   "cell_type": "code",
   "execution_count": null,
   "metadata": {},
   "outputs": [],
   "source": [
    "from tkinter import*\n",
    "root = Tk()\n",
    "root.title(\"My GUI\")\n",
    "root.wm_iconbitmap(\"mario.ico\")\n",
    "c=Canvas(root,width=600,height=600)\n",
    "img=PhotoImage(file='why.gif')\n",
    "c.create_image(100,100,anchor=NW,image=img)\n",
    "c.pack()\n",
    "root.mainloop()"
   ]
  },
  {
   "cell_type": "code",
   "execution_count": null,
   "metadata": {},
   "outputs": [],
   "source": [
    "from tkinter import*\n",
    "root = Tk()\n",
    "root.title(\"IITM\")\n",
    "root.wm_iconbitmap(\"mario.ico\")\n",
    "c=Canvas(root,width=900,height=500)\n",
    "c.create_oval(70,50,160,140,fill='yellow',outline='yellow',activefill='orange')\n",
    "c.create_text(115,95,text=\"SUN\",font=('comic',15,'bold'),fill='red',activefill='orange')\n",
    "c.create_line(0,400,900,400,width=3,activefill='purple',)\n",
    "c.create_rectangle(380,250,520,400,fill='red',outline='black',activefill='orange')\n",
    "c.create_rectangle(430,300,470,400,fill='black',activefill='orange')\n",
    "c.create_text(450,275,text=\"IITM\",font=('comic',20,'bold'),fill='White',activefill='orange')\n",
    "c.create_polygon(450,180,520,250,380,250,outline='red',activefill='orange')\n",
    "c.create_arc(5,500,126,300,start=0,extent=180,fill='green')\n",
    "c.create_arc(126,500,252,300,start=0,extent=180,fill='green',activefill='orange')\n",
    "c.create_arc(252,500,378,300,start=0,extent=180,fill='green',activefill='orange')\n",
    "c.create_arc(520,500,646,300,start=0,extent=180,fill='green',activefill='orange')\n",
    "c.create_arc(646,500,772,300,start=0,extent=180,fill='green',activefill='orange')\n",
    "c.create_arc(772,500,898,300,start=0,extent=180,fill='green',activefill='orange')\n",
    "c.pack()\n",
    "root.mainloop()"
   ]
  },
  {
   "cell_type": "code",
   "execution_count": null,
   "metadata": {},
   "outputs": [],
   "source": [
    "from tkinter import*\n",
    "root = Tk()\n",
    "f=Frame(root,width=800,height=500)\n",
    "f.propagate(0)\n",
    "def perform(z):\n",
    "    if z==1:\n",
    "        f[\"bg\"]=\"red\"\n",
    "    elif z==2:\n",
    "        f[\"bg\"]=\"green\"\n",
    "    else:\n",
    "        f[\"bg\"]=\"blue\"\n",
    "    \n",
    "b1=Button(f,text=\"my button\",width=20,height=2,command=lambda:perform(1))\n",
    "b2=Button(f,text=\"my button\",width=20,height=2,command=lambda:perform(2))\n",
    "b3=Button(f,text=\"my button\",width=20,height=2,command=lambda:perform(3))\n",
    "\n",
    "b1.pack()\n",
    "b2.pack()\n",
    "b3.pack()\n",
    "f.pack()\n",
    "root.mainloop()"
   ]
  },
  {
   "cell_type": "code",
   "execution_count": null,
   "metadata": {},
   "outputs": [],
   "source": [
    "from tkinter import*\n",
    "root = Tk()\n",
    "f=Frame(root,width=800,height=500)\n",
    "def perform(event):\n",
    "   # if z==1:\n",
    "     f[\"bg\"]=\"red\"\n",
    "    #elif z==2:\n",
    "       # f[\"bg\"]=\"green\"\n",
    "   # else:\n",
    "        #f[\"bg\"]=\"blue\"\n",
    "    \n",
    "f.propagate(0)\n",
    "b1=Button(f,text=\"my button\",width=20,height=2)\n",
    "b1.bind('<Button-3>',perform)\n",
    "#b2=Button(f,text=\"my button\",width=20,height=2,command=lambda:perform(2))\n",
    "#b3=Button(f,text=\"my button\",width=20,height=2,command=lambda:perform(3))\n",
    "\n",
    "b1.pack()\n",
    "#b2.pack()\n",
    "#b3.pack()\n",
    "f.pack()\n",
    "root.mainloop()"
   ]
  },
  {
   "cell_type": "code",
   "execution_count": null,
   "metadata": {},
   "outputs": [],
   "source": [
    "from tkinter import*\n",
    "root = Tk()\n",
    "f=Frame(root,width=800,height=500)\n",
    "def perform(z):\n",
    "    if z==1:\n",
    "        f[\"bg\"]=\"red\"\n",
    "    elif z==2:\n",
    "        f[\"bg\"]=\"green\"\n",
    "    else:\n",
    "        f[\"bg\"]=\"blue\"\n",
    "    \n",
    "f.propagate(0)\n",
    "b1=Button(f,text=\"my button\",width=20,height=2,command=lambda:perform(1))\n",
    "b2=Button(f,text=\"my button\",width=20,height=2,command=lambda:perform(2))\n",
    "b3=Button(f,text=\"my button\",width=20,height=2,command=lambda:perform(3))\n",
    "l=Label (f,text=\"HellOO!!\",font=('comic',10,'bold'))\n",
    "b1.grid(row=1,column=0)\n",
    "b2.grid(row=2,column=2)\n",
    "b3.grid(row=3,column=3)\n",
    "l.grid(row=0,column=1)\n",
    "\n",
    "l.pack()\n",
    "f.pack()\n",
    "root.mainloop()"
   ]
  },
  {
   "cell_type": "code",
   "execution_count": null,
   "metadata": {},
   "outputs": [],
   "source": [
    "from tkinter import*\n",
    "root = Tk()\n",
    "f=Frame(root,width=800,height=500)\n",
    "f.propagate(0)\n",
    "l=Label(f,text=\"Working OR Not!  \")\n",
    "b1=Button(f,text=\"BUTTON\",width=50,height=5,command=perform)\n",
    "\n",
    "def perform():\n",
    "    m=Message(f,text=\"Working\",font=(\"comic\",12,\"bold\"))\n",
    "    m.grid(row=2,column=0)\n",
    "\n",
    "b1.grid(row=1,column=0)\n",
    "l.grid(row=0,column=0)\n",
    "f.pack()\n",
    "root.mainloop()"
   ]
  },
  {
   "cell_type": "code",
   "execution_count": null,
   "metadata": {},
   "outputs": [],
   "source": [
    "from tkinter import*\n",
    "root = Tk()\n",
    "f=Frame(root,width=100,height=250)\n",
    "\n",
    "obj1=IntVar()\n",
    "obj2=IntVar()\n",
    "obj3=IntVar()\n",
    "\n",
    "def perform1():\n",
    "    if obj1.get()==1:\n",
    "        print(\"1kj\")\n",
    "\n",
    "def perform2():\n",
    "    if obj2.get()==1:\n",
    "        print(\"2kj\")\n",
    "\n",
    "def perform3():\n",
    "    if obj3.get()==1 :\n",
    "        print(\"3kj\")\n",
    "        \n",
    "f.propagate(0)\n",
    "c=Checkbutton(f,width=10,height=5,text='java',variable=obj1,command=perform1)\n",
    "c1=Checkbutton(f,width=10,height=5,text='php',variable=obj2,command=perform2)\n",
    "c2=Checkbutton(f,width=10,height=5,text='python',variable=obj3,command=perform3)\n",
    "\n",
    "c.pack()\n",
    "c1.pack()\n",
    "c2.pack()\n",
    "f.pack()\n",
    "root.mainloop()"
   ]
  },
  {
   "cell_type": "code",
   "execution_count": null,
   "metadata": {},
   "outputs": [],
   "source": [
    "from tkinter import*\n",
    "root = Tk()\n",
    "f=Frame(root,width=100,height=250)\n",
    "\n",
    "obj1=IntVar()\n",
    "obj2=IntVar()\n",
    "obj3=IntVar()\n",
    "\n",
    "def perform():\n",
    "    if obj1.get()==1:\n",
    "        print(\"1kj\")\n",
    "    elif obj2.get()==2:\n",
    "        print(\"2kj\")\n",
    "    else:\n",
    "        print(\"3kj\")\n",
    "        \n",
    "f.propagate(0)\n",
    "c=Radiobutton(f,width=10,height=5,text='java',variable=obj1,value=1,command=perform)\n",
    "c1=Radiobutton(f,width=10,height=5,text='php',variable=obj2,value=2,command=perform)\n",
    "c2=Radiobutton(f,width=10,height=5,text='python',variable=obj3,value=3,command=perform)\n",
    "\n",
    "c.pack()\n",
    "c1.pack()\n",
    "c2.pack()\n",
    "f.pack()\n",
    "root.mainloop()"
   ]
  },
  {
   "cell_type": "code",
   "execution_count": null,
   "metadata": {},
   "outputs": [],
   "source": []
  }
 ],
 "metadata": {
  "kernelspec": {
   "display_name": "Python 3",
   "language": "python",
   "name": "python3"
  },
  "language_info": {
   "codemirror_mode": {
    "name": "ipython",
    "version": 3
   },
   "file_extension": ".py",
   "mimetype": "text/x-python",
   "name": "python",
   "nbconvert_exporter": "python",
   "pygments_lexer": "ipython3",
   "version": "3.6.5"
  }
 },
 "nbformat": 4,
 "nbformat_minor": 2
}
