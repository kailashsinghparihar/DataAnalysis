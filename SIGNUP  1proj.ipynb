{
 "cells": [
  {
   "cell_type": "code",
   "execution_count": 1,
   "metadata": {},
   "outputs": [
    {
     "name": "stdout",
     "output_type": "stream",
     "text": [
      "Java\n",
      "php\n",
      "Python\n",
      "Female\n",
      "\n",
      "\n"
     ]
    }
   ],
   "source": [
    "from tkinter import*\n",
    "root = Tk()\n",
    "f=Frame(root,width=500,height=500)\n",
    "f.propagate(0)\n",
    "\n",
    "obj1=IntVar()\n",
    "obj2=IntVar()\n",
    "obj3=IntVar()\n",
    "\n",
    "def perform1(z):\n",
    "    if z==1:\n",
    "        print(\"Java\")\n",
    "    elif z==2:\n",
    "        print(\"php\")\n",
    "    elif z==3:\n",
    "        print(\"Python\")\n",
    "            \n",
    "def perform2(l):\n",
    "    if l==1:\n",
    "        print(\"Male\")\n",
    "    elif l==2:\n",
    "        print(\"Female\")\n",
    "        \n",
    "def final():\n",
    "    print(e1.get())\n",
    "    print(e2.get())\n",
    "\n",
    "        \n",
    "        \n",
    "l1=Label(f,text=\"Name \",font=('comic',13),anchor=NW)\n",
    "e1=Entry(f,width=30)\n",
    "l2=Label(f,text=\"Program   \",font=('comic',13),anchor=NW)\n",
    "e2=Entry(f,width=30)\n",
    "l3=Label(f,text=\"Gender   \",font=('comic',13),anchor=NW)\n",
    "r1=Radiobutton(f,text='Male',command=lambda:perform2(1))\n",
    "r2=Radiobutton(f,text='Female',command=lambda:perform2(2))\n",
    "l4=Label(f,text=\"Programming language you know   \",font=('comic',13),anchor=NW)\n",
    "c1=Checkbutton(f,width=5,text='Java',command=lambda:perform1(1))\n",
    "c2=Checkbutton(f,width=5,text='php',command=lambda:perform1(2))\n",
    "c3=Checkbutton(f,width=5,text='Python',command=lambda:perform1(3))\n",
    "b1=Button(f,text=\"SUBMIT\",width=20,height=2,command=final)\n",
    "\n",
    "f.grid(row=1,column=0)\n",
    "l1.grid(row=1,column=0)\n",
    "e1.grid(row=1,column=1)\n",
    "l2.grid(row=2,column=0)\n",
    "e2.grid(row=2,column=1)\n",
    "l3.grid(row=3,column=0)\n",
    "r1.grid(row=3,column=1)\n",
    "r2.grid(row=3,column=2)\n",
    "l4.grid(row=4,column=0)\n",
    "c1.grid(row=4,column=1)\n",
    "c2.grid(row=4,column=2)\n",
    "c3.grid(row=4,column=3)\n",
    "b1.grid(row=5,column=1)\n",
    "root.mainloop()"
   ]
  },
  {
   "cell_type": "code",
   "execution_count": null,
   "metadata": {},
   "outputs": [],
   "source": []
  }
 ],
 "metadata": {
  "kernelspec": {
   "display_name": "Python 3",
   "language": "python",
   "name": "python3"
  },
  "language_info": {
   "codemirror_mode": {
    "name": "ipython",
    "version": 3
   },
   "file_extension": ".py",
   "mimetype": "text/x-python",
   "name": "python",
   "nbconvert_exporter": "python",
   "pygments_lexer": "ipython3",
   "version": "3.6.5"
  }
 },
 "nbformat": 4,
 "nbformat_minor": 2
}
