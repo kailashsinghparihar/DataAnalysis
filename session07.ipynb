{
 "cells": [
  {
   "cell_type": "code",
   "execution_count": 9,
   "metadata": {},
   "outputs": [],
   "source": [
    "class Student:\n",
    "    def __init__(self):\n",
    "        print(\"I am a constructor of the Student class.\")\n",
    "    def printMessage(self):\n",
    "        print(\"I will print Message for Student Class\")\n"
   ]
  },
  {
   "cell_type": "code",
   "execution_count": 7,
   "metadata": {},
   "outputs": [
    {
     "name": "stdout",
     "output_type": "stream",
     "text": [
      "I am a constructor of the Student class.\n"
     ]
    }
   ],
   "source": [
    "stu = Student()"
   ]
  },
  {
   "cell_type": "code",
   "execution_count": 10,
   "metadata": {},
   "outputs": [
    {
     "name": "stdout",
     "output_type": "stream",
     "text": [
      "I will print Message for Student Class\n"
     ]
    }
   ],
   "source": [
    "stu.printMessage()"
   ]
  },
  {
   "cell_type": "code",
   "execution_count": 11,
   "metadata": {},
   "outputs": [],
   "source": [
    "class Vehical:\n",
    "    def __init__(self, make,model, year):\n",
    "        self.vmake  = make\n",
    "        self.vmodel = model\n",
    "        self.vyear  = year\n",
    "    def setValues(self, make,model, year):\n",
    "        self.vmake  = make\n",
    "        self.vmodel = model\n",
    "        self.vyear  = year\n",
    "    def getValues(self):\n",
    "        print(\"Make  : \", self.vmake)\n",
    "        print(\"Model : \", self.vmodel)\n",
    "        print(\"Year  : \", self.vyear)"
   ]
  },
  {
   "cell_type": "code",
   "execution_count": 12,
   "metadata": {},
   "outputs": [],
   "source": [
    "pcar = Vehical(\"Maruti\", 'Swift', 2009)"
   ]
  },
  {
   "cell_type": "code",
   "execution_count": 13,
   "metadata": {},
   "outputs": [
    {
     "name": "stdout",
     "output_type": "stream",
     "text": [
      "Make  :  Maruti\n",
      "Model :  Swift\n",
      "Year  :  2009\n"
     ]
    }
   ],
   "source": [
    "pcar.getValues()"
   ]
  },
  {
   "cell_type": "code",
   "execution_count": 14,
   "metadata": {},
   "outputs": [],
   "source": [
    "pcar.setValues(\"Maruti\", 'Ciaz', 2018)"
   ]
  },
  {
   "cell_type": "code",
   "execution_count": 15,
   "metadata": {},
   "outputs": [
    {
     "name": "stdout",
     "output_type": "stream",
     "text": [
      "Make  :  Maruti\n",
      "Model :  Ciaz\n",
      "Year  :  2018\n"
     ]
    }
   ],
   "source": [
    "pcar.getValues()"
   ]
  },
  {
   "cell_type": "code",
   "execution_count": 20,
   "metadata": {},
   "outputs": [],
   "source": [
    "class Vehical:\n",
    "    def __init__(self, make, model, year):\n",
    "        self.vmake  = make\n",
    "        self.vmodel = model\n",
    "        self.vyear  = year\n",
    "    def setValues(self, make,model, year):\n",
    "        self.vmake  = make\n",
    "        self.vmodel = model\n",
    "        self.vyear  = year\n",
    "    def getValues(self):\n",
    "        print(\"Make  : \", self.vmake)\n",
    "        print(\"Model : \", self.vmodel)\n",
    "        print(\"Year  : \", self.vyear)\n",
    "        \n",
    "class Car(Vehical):\n",
    "    def __init__(self, fuel, mileage, make, model, year):\n",
    "        super().__init__(make, model, year)\n",
    "        self.cfuel    = fuel\n",
    "        self.cmileage = mileage\n",
    "    def getCarValues(self):\n",
    "        print(\"Fuel    : \", self.cfuel)\n",
    "        print(\"Mileage : \", self.cmileage)\n"
   ]
  },
  {
   "cell_type": "code",
   "execution_count": 22,
   "metadata": {},
   "outputs": [],
   "source": [
    "objCar = Car(\"Battery\", 20, \"Mahindra\", \"Eco\", 2015)"
   ]
  },
  {
   "cell_type": "code",
   "execution_count": 25,
   "metadata": {},
   "outputs": [
    {
     "name": "stdout",
     "output_type": "stream",
     "text": [
      "Fuel    :  Battery\n",
      "Mileage :  20\n"
     ]
    }
   ],
   "source": [
    "objCar.getCarValues()"
   ]
  },
  {
   "cell_type": "code",
   "execution_count": 26,
   "metadata": {},
   "outputs": [
    {
     "name": "stdout",
     "output_type": "stream",
     "text": [
      "Make  :  Mahindra\n",
      "Model :  Eco\n",
      "Year  :  2015\n"
     ]
    }
   ],
   "source": [
    "objCar.getValues()"
   ]
  },
  {
   "cell_type": "code",
   "execution_count": 28,
   "metadata": {},
   "outputs": [],
   "source": [
    "class Vehical:\n",
    "    def __init__(self, make, model, year):\n",
    "        self.vmake  = make\n",
    "        self.vmodel = model\n",
    "        self.vyear  = year\n",
    "    def setValues(self, make,model, year):\n",
    "        self.vmake  = make\n",
    "        self.vmodel = model\n",
    "        self.vyear  = year\n",
    "    def getValues(self):\n",
    "        print(\"Make  : \", self.vmake)\n",
    "        print(\"Model : \", self.vmodel)\n",
    "        print(\"Year  : \", self.vyear)\n",
    "        \n",
    "class Car(Vehical):\n",
    "    def __init__(self, fuel, mileage, make, model, year):\n",
    "        super().__init__(make, model, year)\n",
    "        self.cfuel    = fuel\n",
    "        self.cmileage = mileage\n",
    "    def getCarValues(self):\n",
    "        print(\"Make  : \", self.vmake)\n",
    "        print(\"Model : \", self.vmodel)\n",
    "        print(\"Year  : \", self.vyear)\n",
    "        print(\"Fuel    : \", self.cfuel)\n",
    "        print(\"Mileage : \", self.cmileage)\n"
   ]
  },
  {
   "cell_type": "code",
   "execution_count": 29,
   "metadata": {},
   "outputs": [],
   "source": [
    "objCar = Car(\"Battery\", 20, \"Mahindra\", \"Eco\", 2015)"
   ]
  },
  {
   "cell_type": "code",
   "execution_count": 30,
   "metadata": {},
   "outputs": [
    {
     "name": "stdout",
     "output_type": "stream",
     "text": [
      "Make  :  Mahindra\n",
      "Model :  Eco\n",
      "Year  :  2015\n",
      "Fuel    :  Battery\n",
      "Mileage :  20\n"
     ]
    }
   ],
   "source": [
    "objCar.getCarValues()"
   ]
  },
  {
   "cell_type": "markdown",
   "metadata": {},
   "source": [
    "### This is understand the issue of accessing values from Parent - to - Child"
   ]
  },
  {
   "cell_type": "code",
   "execution_count": 32,
   "metadata": {},
   "outputs": [],
   "source": [
    "class Vehical:\n",
    "    def __init__(self, make, model, year):\n",
    "        self.vmake  = make\n",
    "        self.vmodel = model\n",
    "        self.vyear  = year\n",
    "    def setValues(self, make,model, year):\n",
    "        self.vmake  = make\n",
    "        self.vmodel = model\n",
    "        self.vyear  = year\n",
    "    def getValues(self):\n",
    "        print(\"Make  : \", self.vmake)\n",
    "        print(\"Model : \", self.vmodel)\n",
    "        print(\"Year  : \", self.vyear)\n",
    "        \n",
    "class Car(Vehical):\n",
    "    def __init__(self, fuel, mileage):\n",
    "        #super().__init__(make, model, year)\n",
    "        self.cfuel    = fuel\n",
    "        self.cmileage = mileage\n",
    "    def getCarValues(self):\n",
    "        print(\"Make  : \", self.vmake)\n",
    "        print(\"Model : \", self.vmodel)\n",
    "        print(\"Year  : \", self.vyear)\n",
    "        print(\"Fuel    : \", self.cfuel)\n",
    "        print(\"Mileage : \", self.cmileage)"
   ]
  },
  {
   "cell_type": "code",
   "execution_count": 33,
   "metadata": {},
   "outputs": [],
   "source": [
    "objCar = Car(\"Battery\", 20)"
   ]
  },
  {
   "cell_type": "code",
   "execution_count": 34,
   "metadata": {},
   "outputs": [
    {
     "ename": "AttributeError",
     "evalue": "'Car' object has no attribute 'vmake'",
     "output_type": "error",
     "traceback": [
      "\u001b[1;31m---------------------------------------------------------------------------\u001b[0m",
      "\u001b[1;31mAttributeError\u001b[0m                            Traceback (most recent call last)",
      "\u001b[1;32m<ipython-input-34-59e6fee24c48>\u001b[0m in \u001b[0;36m<module>\u001b[1;34m()\u001b[0m\n\u001b[1;32m----> 1\u001b[1;33m \u001b[0mobjCar\u001b[0m\u001b[1;33m.\u001b[0m\u001b[0mgetCarValues\u001b[0m\u001b[1;33m(\u001b[0m\u001b[1;33m)\u001b[0m\u001b[1;33m\u001b[0m\u001b[0m\n\u001b[0m",
      "\u001b[1;32m<ipython-input-32-f4bd53b3ef38>\u001b[0m in \u001b[0;36mgetCarValues\u001b[1;34m(self)\u001b[0m\n\u001b[0;32m     19\u001b[0m         \u001b[0mself\u001b[0m\u001b[1;33m.\u001b[0m\u001b[0mcmileage\u001b[0m \u001b[1;33m=\u001b[0m \u001b[0mmileage\u001b[0m\u001b[1;33m\u001b[0m\u001b[0m\n\u001b[0;32m     20\u001b[0m     \u001b[1;32mdef\u001b[0m \u001b[0mgetCarValues\u001b[0m\u001b[1;33m(\u001b[0m\u001b[0mself\u001b[0m\u001b[1;33m)\u001b[0m\u001b[1;33m:\u001b[0m\u001b[1;33m\u001b[0m\u001b[0m\n\u001b[1;32m---> 21\u001b[1;33m         \u001b[0mprint\u001b[0m\u001b[1;33m(\u001b[0m\u001b[1;34m\"Make  : \"\u001b[0m\u001b[1;33m,\u001b[0m \u001b[0mself\u001b[0m\u001b[1;33m.\u001b[0m\u001b[0mvmake\u001b[0m\u001b[1;33m)\u001b[0m\u001b[1;33m\u001b[0m\u001b[0m\n\u001b[0m\u001b[0;32m     22\u001b[0m         \u001b[0mprint\u001b[0m\u001b[1;33m(\u001b[0m\u001b[1;34m\"Model : \"\u001b[0m\u001b[1;33m,\u001b[0m \u001b[0mself\u001b[0m\u001b[1;33m.\u001b[0m\u001b[0mvmodel\u001b[0m\u001b[1;33m)\u001b[0m\u001b[1;33m\u001b[0m\u001b[0m\n\u001b[0;32m     23\u001b[0m         \u001b[0mprint\u001b[0m\u001b[1;33m(\u001b[0m\u001b[1;34m\"Year  : \"\u001b[0m\u001b[1;33m,\u001b[0m \u001b[0mself\u001b[0m\u001b[1;33m.\u001b[0m\u001b[0mvyear\u001b[0m\u001b[1;33m)\u001b[0m\u001b[1;33m\u001b[0m\u001b[0m\n",
      "\u001b[1;31mAttributeError\u001b[0m: 'Car' object has no attribute 'vmake'"
     ]
    }
   ],
   "source": [
    "objCar.getCarValues()"
   ]
  },
  {
   "cell_type": "code",
   "execution_count": 37,
   "metadata": {},
   "outputs": [],
   "source": [
    "class PP:\n",
    "    def funcPP(self):\n",
    "        print(\"PP Func - inside PP\")\n",
    "class CC(PP):\n",
    "    def funcCC(self):\n",
    "        print(\"CC Func - inside CC\")\n",
    "    def funcPP(self):\n",
    "        super().funcPP()\n",
    "cobj = CC()"
   ]
  },
  {
   "cell_type": "code",
   "execution_count": 38,
   "metadata": {},
   "outputs": [
    {
     "name": "stdout",
     "output_type": "stream",
     "text": [
      "PP Func - inside PP\n"
     ]
    }
   ],
   "source": [
    "cobj.funcPP()"
   ]
  },
  {
   "cell_type": "code",
   "execution_count": null,
   "metadata": {},
   "outputs": [],
   "source": []
  }
 ],
 "metadata": {
  "kernelspec": {
   "display_name": "Python 3",
   "language": "python",
   "name": "python3"
  },
  "language_info": {
   "codemirror_mode": {
    "name": "ipython",
    "version": 3
   },
   "file_extension": ".py",
   "mimetype": "text/x-python",
   "name": "python",
   "nbconvert_exporter": "python",
   "pygments_lexer": "ipython3",
   "version": "3.6.5"
  }
 },
 "nbformat": 4,
 "nbformat_minor": 2
}
