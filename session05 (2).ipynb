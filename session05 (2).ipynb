{
 "cells": [
  {
   "cell_type": "code",
   "execution_count": 1,
   "metadata": {},
   "outputs": [
    {
     "name": "stdout",
     "output_type": "stream",
     "text": [
      "Vehicle Constructor Initialized.\n"
     ]
    }
   ],
   "source": [
    "class vehicle:\n",
    "    def __init__(self):\n",
    "        print(\"Vehicle Constructor Initialized.\")\n",
    "\n",
    "car = vehicle()"
   ]
  },
  {
   "cell_type": "code",
   "execution_count": 3,
   "metadata": {},
   "outputs": [
    {
     "name": "stdout",
     "output_type": "stream",
     "text": [
      "Vehicle Constructor Initialized.\n"
     ]
    }
   ],
   "source": [
    "class Vehicle:\n",
    "    def __init__(self):\n",
    "        print(\"Vehicle Constructor Initialized.\")\n",
    "    def returnValues(self):\n",
    "        print(\"Values are not available right now.\")\n",
    "    def acceptValues(self, make):\n",
    "        self.vmake = make\n",
    "        print(\"Make : \", make)\n",
    "\n",
    "car = Vehicle()"
   ]
  },
  {
   "cell_type": "code",
   "execution_count": 4,
   "metadata": {},
   "outputs": [
    {
     "name": "stdout",
     "output_type": "stream",
     "text": [
      "Make :  Make\n"
     ]
    }
   ],
   "source": [
    "car.acceptValues(\"Make\")"
   ]
  },
  {
   "cell_type": "code",
   "execution_count": 14,
   "metadata": {},
   "outputs": [],
   "source": [
    "class Vehical:\n",
    "    def __init__(self, make, model, year=None):\n",
    "        self.make  = make\n",
    "        self.model = model\n",
    "        self.year  = year\n",
    "    def vehicalDetails(self):\n",
    "        print(\"Make : \" , self.make)\n",
    "        print(\"Model : \" , self.model)\n",
    "        print(\"Year : \" , self.year)\n",
    "\n",
    "car = Vehical(\"Maruti\", \"Ritz\", 2017)"
   ]
  },
  {
   "cell_type": "code",
   "execution_count": 11,
   "metadata": {},
   "outputs": [
    {
     "name": "stdout",
     "output_type": "stream",
     "text": [
      "Make :  Maruti\n",
      "Model :  Ritz\n",
      "Year :  2017\n"
     ]
    }
   ],
   "source": [
    "car.vehicalDetails()"
   ]
  },
  {
   "cell_type": "code",
   "execution_count": 15,
   "metadata": {},
   "outputs": [
    {
     "name": "stdout",
     "output_type": "stream",
     "text": [
      "Hello World\n"
     ]
    }
   ],
   "source": [
    "print(\"Hello World\")"
   ]
  },
  {
   "cell_type": "code",
   "execution_count": 16,
   "metadata": {},
   "outputs": [
    {
     "name": "stdout",
     "output_type": "stream",
     "text": [
      "Hello World Hello World Again.\n"
     ]
    }
   ],
   "source": [
    "print(\"Hello World\", \"Hello World Again.\")"
   ]
  },
  {
   "cell_type": "code",
   "execution_count": 17,
   "metadata": {},
   "outputs": [
    {
     "name": "stdout",
     "output_type": "stream",
     "text": [
      "The values are  10  and  20\n"
     ]
    }
   ],
   "source": [
    "num1 = 10\n",
    "num2 = 20\n",
    "print(\"The values are \", num1, \" and \", num2)"
   ]
  },
  {
   "cell_type": "code",
   "execution_count": 18,
   "metadata": {},
   "outputs": [
    {
     "name": "stdout",
     "output_type": "stream",
     "text": [
      "Hello\n",
      "World\n"
     ]
    }
   ],
   "source": [
    "print(\"Hello\")\n",
    "print(\"World\")"
   ]
  },
  {
   "cell_type": "code",
   "execution_count": 20,
   "metadata": {},
   "outputs": [
    {
     "name": "stdout",
     "output_type": "stream",
     "text": [
      "Hello World\t It will be printed in the same line. \n"
     ]
    }
   ],
   "source": [
    "print(\"Hello World\", end=\"\\t\")\n",
    "print(\" It will be printed in the same line. \")"
   ]
  },
  {
   "cell_type": "code",
   "execution_count": 24,
   "metadata": {},
   "outputs": [
    {
     "name": "stdout",
     "output_type": "stream",
     "text": [
      "Cost : 10 and Delivery in 20 days\n"
     ]
    }
   ],
   "source": [
    "x=10\n",
    "y=20\n",
    "print(\"Cost : {x} and Delivery in {y} days\" .format(x=x, y=y))"
   ]
  },
  {
   "cell_type": "code",
   "execution_count": 29,
   "metadata": {},
   "outputs": [],
   "source": [
    "val1 = \"It\\'s Hot Today\""
   ]
  },
  {
   "cell_type": "code",
   "execution_count": null,
   "metadata": {},
   "outputs": [],
   "source": []
  }
 ],
 "metadata": {
  "kernelspec": {
   "display_name": "Python 3",
   "language": "python",
   "name": "python3"
  },
  "language_info": {
   "codemirror_mode": {
    "name": "ipython",
    "version": 3
   },
   "file_extension": ".py",
   "mimetype": "text/x-python",
   "name": "python",
   "nbconvert_exporter": "python",
   "pygments_lexer": "ipython3",
   "version": "3.6.5"
  }
 },
 "nbformat": 4,
 "nbformat_minor": 2
}
