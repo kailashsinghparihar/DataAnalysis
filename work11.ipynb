{
 "cells": [
  {
   "cell_type": "markdown",
   "metadata": {},
   "source": [
    "### GUI\n"
   ]
  },
  {
   "cell_type": "code",
   "execution_count": null,
   "metadata": {},
   "outputs": [],
   "source": [
    "from tkinter import *\n",
    "root=Tk()\n",
    "root.title(\"my gui\")\n",
    "root.mainloop()"
   ]
  },
  {
   "cell_type": "code",
   "execution_count": 1,
   "metadata": {},
   "outputs": [
    {
     "name": "stdout",
     "output_type": "stream",
     "text": [
      "E:\\python work deep\n"
     ]
    }
   ],
   "source": [
    "import os\n",
    "print(os.getcwd())"
   ]
  },
  {
   "cell_type": "raw",
   "metadata": {},
   "source": [
    "root=Tk()\n",
    "root.title(\"my gui\")\n",
    "root.wm_iconbitmap(\"download(1)\")\n",
    "root.mainloop()\n"
   ]
  },
  {
   "cell_type": "code",
   "execution_count": 7,
   "metadata": {},
   "outputs": [],
   "source": [
    "from tkinter import*\n",
    "root=Tk()\n",
    "root.title(\"my gui\")\n",
    "root.wm_iconbitmap(\"mario.ico\")\n",
    "root.mainloop()\n"
   ]
  },
  {
   "cell_type": "code",
   "execution_count": 4,
   "metadata": {},
   "outputs": [],
   "source": [
    "from tkinter import*\n",
    "root=Tk()\n",
    "root.title(\"my gui\")\n",
    "root.wm_iconbitmap(\"mario.ico\")\n",
    "C=Canvas(root,height=500,width=500)\n",
    "C.pack()\n",
    "C.create_line(100,100,500,100,500,500,width=5,fill='green',activefill='red')\n",
    "root.mainloop()"
   ]
  },
  {
   "cell_type": "code",
   "execution_count": 2,
   "metadata": {},
   "outputs": [],
   "source": [
    "from tkinter import*\n",
    "root=Tk()\n",
    "root.title(\"my gui\")\n",
    "root.wm_iconbitmap(\"mario.ico\")\n",
    "C=Canvas(root,height=500,width=500)\n",
    "C.pack()\n",
    "C.create_rectangle(100,100,500,300,width=5,fill='green',activefill='red')\n",
    "root.mainloop()"
   ]
  },
  {
   "cell_type": "code",
   "execution_count": 3,
   "metadata": {},
   "outputs": [],
   "source": [
    "from tkinter import*\n",
    "root=Tk()\n",
    "root.title(\"my gui\")\n",
    "root.wm_iconbitmap(\"mario.ico\")\n",
    "C=Canvas(root,height=500,width=500)\n",
    "C.pack()\n",
    "C.create_oval(100,100,500,300,width=5,fill='green',activefill='red')\n",
    "root.mainloop()"
   ]
  },
  {
   "cell_type": "code",
   "execution_count": 4,
   "metadata": {},
   "outputs": [],
   "source": [
    "from tkinter import*\n",
    "root=Tk()\n",
    "root.title(\"my gui\")\n",
    "root.wm_iconbitmap(\"mario.ico\")\n",
    "C=Canvas(root,height=500,width=500)\n",
    "C.pack()\n",
    "C.create_arc(100,100,500,300,start=0,extent=180,fill='green',activefill='red')\n",
    "root.mainloop()"
   ]
  },
  {
   "cell_type": "code",
   "execution_count": 12,
   "metadata": {},
   "outputs": [],
   "source": [
    "from tkinter import*\n",
    "root=Tk()\n",
    "root.title(\"my gui\")\n",
    "root.wm_iconbitmap(\"mario.ico\")\n",
    "C=Canvas(root,height=500,width=500)\n",
    "C.pack()\n",
    "C.create_polygon(100,100,200,200,100,300,200,400,fill='green',activefill='red')\n",
    "root.mainloop()"
   ]
  },
  {
   "cell_type": "code",
   "execution_count": 19,
   "metadata": {},
   "outputs": [],
   "source": [
    "from tkinter import*\n",
    "root=Tk()\n",
    "root.title(\"my gui\")\n",
    "root.wm_iconbitmap(\"mario.ico\")\n",
    "C=Canvas(root,height=500,width=500)\n",
    "C.pack()\n",
    "C.create_text(100,100,text=\"IITM\",font=('calibri','70','bold'))\n",
    "root.mainloop()"
   ]
  },
  {
   "cell_type": "code",
   "execution_count": 23,
   "metadata": {},
   "outputs": [],
   "source": [
    "from tkinter import*\n",
    "root=Tk()\n",
    "root.title(\"my gui\")\n",
    "root.wm_iconbitmap(\"mario.ico\")\n",
    "C=Canvas(root,height=500,width=500)\n",
    "C.pack()\n",
    "img=PhotoImage(file='sun.gif')\n",
    "img2=PhotoImage(file='boy.gif')\n",
    "C.create_image(400,200,anchor=NE,image=img,activeimage=img2)\n",
    "root.mainloop()"
   ]
  },
  {
   "cell_type": "code",
   "execution_count": null,
   "metadata": {},
   "outputs": [],
   "source": [
    "from tkinter import*\n",
    "root=Tk()\n",
    "root.title(\"my gui\")\n",
    "root.wm_iconbitmap(\"mario.ico\")\n",
    "C=Canvas(root,height=800,width=800)\n",
    "C.pack()\n",
    "C.create_line(0,567,800,567,width=5,fill='brown')\n",
    "C.create_arc(1,530,50,600,start=0,extent=180,fill='green')\n",
    "C.create_arc(50,530,100,600,start=0,extent=180,fill='green')\n",
    "C.create_arc(100,530,150,600,start=0,extent=180,fill='green')\n",
    "C.create_arc(150,530,200,600,start=0,extent=180,fill='green')\n",
    "C.create_rectangle(200,567,350,350,fill='pink')\n",
    "C.create_arc(350,530,400,600,start=0,extent=180,fill='green')\n",
    "C.create_arc(400,530,450,600,start=0,extent=180,fill='green')\n",
    "C.create_arc(450,530,500,600,start=0,extent=180,fill='green')\n",
    "C.create_arc(500,530,550,600,start=0,extent=180,fill='green')\n",
    "C.create_polygon(200,350,350,350,280,280,width=5,fill='sky blue')\n",
    "C.create_rectangle(250,450,300,565,fill='red')\n",
    "C.create_text(275,340,text=\"IITM\",font=('calibri','18','bold'))\n",
    "C.create_oval(100,100,200,200,width=3,fill='yellow')\n",
    "C.create_text(150,150,text=\"sun\",font=('calibri','18','bold'))\n",
    "root.mainloop()"
   ]
  },
  {
   "cell_type": "code",
   "execution_count": 2,
   "metadata": {},
   "outputs": [
    {
     "name": "stdout",
     "output_type": "stream",
     "text": [
      "button is pressed\n",
      "button is pressed\n"
     ]
    }
   ],
   "source": [
    "from tkinter import*\n",
    "root=Tk()\n",
    "root.title(\"my gui\")\n",
    "#root.wm_iconbitmap(\"mario.ico\")\n",
    "p=Frame(root,height=800,width=800)\n",
    "p.propagate(0)\n",
    "p.pack()\n",
    "def perform():\n",
    "    print('button is pressed')\n",
    "    \n",
    "b=Button(p,text='my button',width=10,height=10,command=perform())\n",
    "l=Label(p,text='hello world',font=('verdana',10,'bold'))\n",
    "b.grid(row=0,column=0)\n",
    "l.grid(row=1,column=0)\n",
    "b=Button(p,text='my button',width=10,height=10,command=perform())\n",
    "\n",
    "b.pack()\n",
    "root.mainloop()\n"
   ]
  },
  {
   "cell_type": "code",
   "execution_count": 4,
   "metadata": {},
   "outputs": [
    {
     "name": "stdout",
     "output_type": "stream",
     "text": [
      "button is pressed\n",
      "button is pressed\n"
     ]
    }
   ],
   "source": [
    "from tkinter import*\n",
    "root=Tk()\n",
    "root.title(\"my gui\")\n",
    "#root.wm_iconbitmap(\"mario.ico\")\n",
    "p=Frame(root,height=800,width=800)\n",
    "p.propagate(0)\n",
    "p.pack()\n",
    "def perform():\n",
    "    print(\"button is pressed\")\n",
    "b=Button(p,text='my button',width=10,height=10,command=perform())\n",
    "l=Label(p,text='hello world',font=('verdana',10,'bold'))\n",
    "b.grid(row=0,column=0)\n",
    "l.grid(row=1,column=0)\n",
    "b=Button(p,text='my button',width=10,height=10,command=perform())\n",
    "m=Message(p,text=\"hii\",font=('verdana',10))\n",
    "m.pack()\n",
    "b.pack()\n",
    "root.mainloop()\n"
   ]
  },
  {
   "cell_type": "code",
   "execution_count": 20,
   "metadata": {},
   "outputs": [],
   "source": [
    "from tkinter import*\n",
    "root=Tk()\n",
    "root.title(\"my gui\")\n",
    "root.wm_iconbitmap(\"mario.ico\")\n",
    "p=Frame(root,height=800,width=800)\n",
    "p.propagate(0)\n",
    "p.pack()\n",
    "def perform():\n",
    "    m=Message(p,text='working \\n',font=('verdana',15))\n",
    "    m.pack()\n",
    "l=Label(p,text=\"works or not\",font=('verdana',10,'bold'))\n",
    "b=Button(p,text=\"click here\",font=('calibri',10),command=perform)\n",
    "l.pack()\n",
    "b.pack()\n",
    "root.mainloop()"
   ]
  },
  {
   "cell_type": "code",
   "execution_count": 5,
   "metadata": {},
   "outputs": [],
   "source": [
    "from tkinter import*\n",
    "root=Tk()\n",
    "root.title(\"my gui\")\n",
    "root.wm_iconbitmap(\"mario.ico\")\n",
    "p=Frame(root,height=800,width=800)\n",
    "p.propagate(0)\n",
    "p.pack()\n",
    "obj1=IntVar()\n",
    "obj2=IntVar()\n",
    "def perform1():\n",
    "    if obj1.get()==1:\n",
    "            m1=Message(p,text='php is selected \\n',font=('verdana',15))\n",
    "            m1.pack()\n",
    "def perform2():\n",
    "    if obj2.get()==1:\n",
    "            m2=Message(p,text='java is selected \\n',font=('verdana',15))\n",
    "            m2.pack()\n",
    "c1=Checkbutton(p,text='php',font=('verdana',10,'bold'),variable=obj1,command=perform1)\n",
    "c2=Checkbutton(p,text='java',font=('verdana',10,'bold'),variable=obj2,command=perform2)\n",
    "c1.pack()\n",
    "c2.pack()\n",
    "root.mainloop()"
   ]
  },
  {
   "cell_type": "code",
   "execution_count": 5,
   "metadata": {},
   "outputs": [],
   "source": [
    "from tkinter import*\n",
    "root=Tk()\n",
    "root.title(\"my gui\")\n",
    "#root.wm_iconbitmap(\"mario.ico\")\n",
    "p=Frame(root,height=800,width=800)\n",
    "p.propagate(0)\n",
    "p.pack()\n",
    "obj1=IntVar()\n",
    "obj2=IntVar()\n",
    "def perform1():\n",
    "    if obj1.get()==1:\n",
    "            m1=Message(p,text='php is selected \\n',font=('verdana',15))\n",
    "            m1.pack()\n",
    "    elif obj2.get()==2:\n",
    "            m2=Message(p,text='java is selected \\n',font=('verdana',15))\n",
    "            m2.pack()\n",
    "    else:\n",
    "        print(\" huihd\")\n",
    "r1=Radiobutton(p,text='php',font=('verdana',10,'bold'),value=1,variable=obj1,command=perform1)\n",
    "r2=Radiobutton(p,text='java',font=('verdana',10,'bold'),value=2,variable=obj2,command=perform1)\n",
    "r1.pack()\n",
    "r2.pack()\n",
    "root.mainloop()"
   ]
  },
  {
   "cell_type": "code",
   "execution_count": null,
   "metadata": {},
   "outputs": [],
   "source": []
  },
  {
   "cell_type": "code",
   "execution_count": null,
   "metadata": {},
   "outputs": [],
   "source": []
  }
 ],
 "metadata": {
  "kernelspec": {
   "display_name": "Python 3",
   "language": "python",
   "name": "python3"
  },
  "language_info": {
   "codemirror_mode": {
    "name": "ipython",
    "version": 3
   },
   "file_extension": ".py",
   "mimetype": "text/x-python",
   "name": "python",
   "nbconvert_exporter": "python",
   "pygments_lexer": "ipython3",
   "version": "3.6.5"
  }
 },
 "nbformat": 4,
 "nbformat_minor": 2
}
