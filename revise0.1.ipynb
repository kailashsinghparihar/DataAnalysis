{
 "cells": [
  {
   "cell_type": "code",
   "execution_count": 3,
   "metadata": {},
   "outputs": [],
   "source": [
    "from tkinter import*\n",
    "root=Tk()\n",
    "root.title(\"MY GUI\")\n",
    "f=Frame(root,width=700,height=400)\n",
    "f.pack()\n",
    "root.mainloop()"
   ]
  },
  {
   "cell_type": "code",
   "execution_count": 11,
   "metadata": {},
   "outputs": [
    {
     "name": "stdout",
     "output_type": "stream",
     "text": [
      "button pressed !!!\n",
      "button pressed !!!\n"
     ]
    }
   ],
   "source": [
    "from tkinter import*\n",
    "root=Tk()\n",
    "root.title(\"MY GUI\")\n",
    "f=Frame(root,width=700,height=400)\n",
    "def preform():\n",
    "    print(\"button pressed !!!\")\n",
    "b=Button(f,text=\"my button\",width=20,height=2,command=preform)\n",
    "b.pack()\n",
    "f.pack()\n",
    "root.mainloop()"
   ]
  },
  {
   "cell_type": "code",
   "execution_count": 18,
   "metadata": {},
   "outputs": [],
   "source": [
    "from tkinter import*\n",
    "root=Tk()\n",
    "root.title(\"MY GUI\")\n",
    "f=Frame(root,width=700,height=400)\n",
    "f.propagate(0)\n",
    "def preform(z):\n",
    "    if z==1:\n",
    "        f[\"bg\"]=\"red\"\n",
    "    elif z==2:\n",
    "        f[\"bg\"]=\"green\"\n",
    "    else:\n",
    "        f[\"bg\"]=\"blue\"\n",
    "l=Label (f,text=\"HellOO!!\",font=('comic',10,'bold'))        \n",
    "b1=Button(f,text=\"my button\",width=20,height=4,command=lambda:preform(1))\n",
    "b2=Button(f,text=\"my button\",width=20,height=4,command=lambda:preform(2))\n",
    "b3=Button(f,text=\"my button\",width=20,height=4,command=lambda:preform(3))\n",
    "\n",
    "b1.pack()\n",
    "b2.pack()\n",
    "b3.pack()\n",
    "f.pack()\n",
    "l.pack()\n",
    "root.mainloop()"
   ]
  },
  {
   "cell_type": "code",
   "execution_count": 30,
   "metadata": {},
   "outputs": [],
   "source": [
    "from tkinter import*\n",
    "root=Tk()\n",
    "root.title(\"MY GUI\")\n",
    "f=Frame(root,width=700,height=400)\n",
    "f.propagate(0)\n",
    "def preform(k):\n",
    "    if k==1:\n",
    "        f[\"bg\"]=\"green\"\n",
    "    elif k==2:\n",
    "        f[\"bg\"]=\"red\"\n",
    "    else:\n",
    "        f[\"bg\"]=\"blue\"\n",
    "\n",
    "l=Label(f,text=\"press the button\",font=(\"comic\",10,\"bold\"))\n",
    "b1=Button(f,text=\"my button\",width=20,height=4,command=lambda:preform(1))\n",
    "b2=Button(f,text=\"my button\",width=20,height=4,command=lambda:preform(2))\n",
    "b3=Button(f,text=\"my button\",width=20,height=4,command=lambda:preform(3))\n",
    "l.pack()\n",
    "b1.pack()\n",
    "b2.pack()\n",
    "b3.pack()\n",
    "f.pack()\n",
    "root.mainloop()"
   ]
  },
  {
   "cell_type": "code",
   "execution_count": 1,
   "metadata": {},
   "outputs": [],
   "source": [
    "from tkinter import*\n",
    "root=Tk()\n",
    "root.title(\"MY GUI\")\n",
    "f=Frame(root,width=700,height=400)\n",
    "f.propagate(0)\n",
    "def preform(k):\n",
    "    if k==1:\n",
    "        l=Label(f,text=\"working\",font=(\"comic\",10,\"bold\"))\n",
    "        l.pack()\n",
    "b1=Button(f,text=\"working or not\",width=20,height=4,command=lambda:preform(1))\n",
    "b1.pack()\n",
    "f.pack()\n",
    "root.mainloop()"
   ]
  },
  {
   "cell_type": "code",
   "execution_count": 5,
   "metadata": {},
   "outputs": [],
   "source": [
    "from tkinter import*\n",
    "root=Tk()\n",
    "root.title(\"MY GUi\")\n",
    "f=Frame(root,width=700,height=400)\n",
    "f.propagate(0)\n",
    "def preform(k):\n",
    "    if k==1:\n",
    "        l=Label(f,text=\"working\",font=(\"comic\",10,\"bold\"))\n",
    "        l.pack()\n",
    "b=Button(f,text=\"working or not\",width=20,height=4,command=lambda:preform(1))\n",
    "b.pack()\n",
    "f.pack()\n",
    "root.mainloop()"
   ]
  },
  {
   "cell_type": "code",
   "execution_count": 14,
   "metadata": {},
   "outputs": [
    {
     "name": "stdout",
     "output_type": "stream",
     "text": [
      "php selected\n",
      "java selected\n",
      "python selected\n"
     ]
    }
   ],
   "source": [
    "from tkinter import*\n",
    "root=Tk()\n",
    "root.title(\"CheckButton\")\n",
    "f=Frame(root,width=700,height=400)\n",
    "f.propagate(0)\n",
    "obj1=IntVar()\n",
    "obj2=IntVar()\n",
    "obj3=IntVar()\n",
    "def preform1():\n",
    "    if obj1.get()==1:\n",
    "        print(\"java selected\")\n",
    "def preform2():\n",
    "    if obj2.get()==1:\n",
    "        print(\"php selected\")\n",
    "def preform3():\n",
    "    if obj3.get()==1:\n",
    "        print(\"python selected\")\n",
    "        \n",
    "c1=Checkbutton(f,text=\"java\",width=20,height=4,variable=obj1,command=preform1)\n",
    "c2=Checkbutton(f,text=\"php\",width=20,height=4,variable=obj2,command=preform2)\n",
    "c3=Checkbutton(f,text=\"python\",width=20,height=4,variable=obj3,command=preform3)\n",
    "\n",
    "c1.pack()\n",
    "c2.pack()\n",
    "c3.pack()\n",
    "f.pack()\n",
    "root.mainloop()"
   ]
  },
  {
   "cell_type": "code",
   "execution_count": null,
   "metadata": {},
   "outputs": [],
   "source": [
    "\n"
   ]
  },
  {
   "cell_type": "code",
   "execution_count": 29,
   "metadata": {},
   "outputs": [
    {
     "name": "stdout",
     "output_type": "stream",
     "text": [
      "java selected\n",
      "java selected\n",
      "java selected\n"
     ]
    }
   ],
   "source": [
    "from tkinter import*\n",
    "root=Tk()\n",
    "root.title(\"CheckButton\")\n",
    "f=Frame(root,width=150,height=200)\n",
    "f.propagate(0)\n",
    "obj1=IntVar()\n",
    "obj2=IntVar()\n",
    "obj3=IntVar()\n",
    "def preform():\n",
    "    if obj1.get():\n",
    "        print(\"java selected\")\n",
    "#def preform2():\n",
    "    elif obj2.get():\n",
    "        print(\"php selected\")\n",
    "#def preform3():\n",
    "    else:\n",
    "        print(\"python selected\")\n",
    "        \n",
    "c1=Checkbutton(f,text=\"java\",width=20,height=4,variable=obj1,command=preform)\n",
    "c2=Checkbutton(f,text=\"php\",width=20,height=4,variable=obj2,command=preform)\n",
    "c3=Checkbutton(f,text=\"python\",width=20,height=4,variable=obj3,command=preform)\n",
    "\n",
    "c1.pack()\n",
    "c2.pack()\n",
    "c3.pack()\n",
    "f.pack()\n",
    "root.mainloop()\n"
   ]
  },
  {
   "cell_type": "code",
   "execution_count": 32,
   "metadata": {},
   "outputs": [
    {
     "name": "stdout",
     "output_type": "stream",
     "text": [
      "java selected\n",
      "java selected\n",
      "java selected\n"
     ]
    }
   ],
   "source": [
    "from tkinter import*\n",
    "root=Tk()\n",
    "root.title(\"Radiobutton\")\n",
    "f=Frame(root,width=700,height=400)\n",
    "f.propagate(0)\n",
    "obj1=IntVar()\n",
    "obj2=IntVar()\n",
    "obj3=IntVar()\n",
    "def preform():\n",
    "    if obj1.get()==1:\n",
    "        print(\"java selected\")\n",
    "    elif obj2.get()==2:\n",
    "        print(\"php selected\")\n",
    "    else:\n",
    "        print(\"python selected\")\n",
    "        \n",
    "c1=Radiobutton(f,text=\"java\",width=20,height=4,variable=obj1,value=1,command=preform)\n",
    "c2=Radiobutton(f,text=\"php\",width=20,height=4,variable=obj2,value=2,command=preform)\n",
    "c3=Radiobutton(f,text=\"python\",width=20,height=4,variable=obj3,value=3,command=preform)\n",
    "\n",
    "c1.pack()\n",
    "c2.pack()\n",
    "c3.pack()\n",
    "f.pack()\n",
    "root.mainloop()"
   ]
  },
  {
   "cell_type": "code",
   "execution_count": 2,
   "metadata": {},
   "outputs": [
    {
     "name": "stdout",
     "output_type": "stream",
     "text": [
      "area of triangle\n",
      "sqarea of triangle\n"
     ]
    }
   ],
   "source": [
    "class maths:\n",
    "    def area(self):\n",
    "        print(\"area of triangle\")\n",
    "    def sqarea(self):\n",
    "        print(\"sqarea of triangle\")\n",
    "        \n",
    "ss=maths()\n",
    "\n",
    "ss.area()\n",
    "ss.sqarea()\n"
   ]
  },
  {
   "cell_type": "code",
   "execution_count": 1,
   "metadata": {},
   "outputs": [],
   "source": []
  },
  {
   "cell_type": "code",
   "execution_count": null,
   "metadata": {},
   "outputs": [],
   "source": []
  },
  {
   "cell_type": "code",
   "execution_count": null,
   "metadata": {},
   "outputs": [],
   "source": []
  }
 ],
 "metadata": {
  "kernelspec": {
   "display_name": "Python 3",
   "language": "python",
   "name": "python3"
  },
  "language_info": {
   "codemirror_mode": {
    "name": "ipython",
    "version": 3
   },
   "file_extension": ".py",
   "mimetype": "text/x-python",
   "name": "python",
   "nbconvert_exporter": "python",
   "pygments_lexer": "ipython3",
   "version": "3.6.5"
  }
 },
 "nbformat": 4,
 "nbformat_minor": 2
}
