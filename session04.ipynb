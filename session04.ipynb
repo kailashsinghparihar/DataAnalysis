{
 "cells": [
  {
   "cell_type": "code",
   "execution_count": 2,
   "metadata": {},
   "outputs": [],
   "source": [
    "\n",
    "class square:\n",
    "    def area(self):\n",
    "        print(\"It calculates area.\")\n",
    "    def squareProperties(self):\n",
    "        print(\"It collects square class properties.\")\n",
    "\n",
    "ss = square()"
   ]
  },
  {
   "cell_type": "code",
   "execution_count": 3,
   "metadata": {},
   "outputs": [
    {
     "name": "stdout",
     "output_type": "stream",
     "text": [
      "It calculates area.\n",
      "It collects square class properties.\n"
     ]
    }
   ],
   "source": [
    "ss.area()\n",
    "ss.squareProperties()"
   ]
  },
  {
   "cell_type": "code",
   "execution_count": 5,
   "metadata": {},
   "outputs": [],
   "source": [
    "class Student:\n",
    "    def present(self):\n",
    "        print(\"Students are Present.\")\n",
    "    def absent(self):\n",
    "        print(\"Students are absent.\")\n",
    "stu = Student()\n"
   ]
  },
  {
   "cell_type": "code",
   "execution_count": 6,
   "metadata": {},
   "outputs": [
    {
     "name": "stdout",
     "output_type": "stream",
     "text": [
      "Students are absent.\n",
      "Students are Present.\n"
     ]
    }
   ],
   "source": [
    "stu.absent()\n",
    "stu.present()"
   ]
  },
  {
   "cell_type": "code",
   "execution_count": 6,
   "metadata": {},
   "outputs": [
    {
     "name": "stdout",
     "output_type": "stream",
     "text": [
      "This is a Student Class Constructor.\n"
     ]
    }
   ],
   "source": [
    "class Student:\n",
    "    def __init__(self):\n",
    "        print(\"This is a Student Class Constructor.\")\n",
    "    def present(self):\n",
    "        print(\"Students are Present.\")\n",
    "    def absent(self):\n",
    "        print(\"Students are absent.\")\n",
    "stu = Student()\n"
   ]
  },
  {
   "cell_type": "code",
   "execution_count": 11,
   "metadata": {},
   "outputs": [],
   "source": [
    "class Student:\n",
    "    def __init__(self):\n",
    "        self\n",
    "    def setStuName(self, val):\n",
    "        self.name = val\n",
    "    def getStuName(self):\n",
    "        print(\"Name : \" , self.name)\n",
    "\n",
    "stu = Student()"
   ]
  },
  {
   "cell_type": "code",
   "execution_count": 12,
   "metadata": {},
   "outputs": [],
   "source": [
    "stu.setStuName(\"Aman\")"
   ]
  },
  {
   "cell_type": "code",
   "execution_count": 13,
   "metadata": {},
   "outputs": [
    {
     "name": "stdout",
     "output_type": "stream",
     "text": [
      "Name :  Aman\n"
     ]
    }
   ],
   "source": [
    "stu.getStuName()"
   ]
  },
  {
   "cell_type": "code",
   "execution_count": 18,
   "metadata": {},
   "outputs": [],
   "source": [
    "class ArithOperation:\n",
    "    def __init__(self, aa, bb):\n",
    "        self.a = aa\n",
    "        self.b = bb\n",
    "    def addNumbers(self):\n",
    "        print('Addition : ', self.a + self.b)\n",
    "    def multiNumbers(self):\n",
    "        print(\"Multiplication : \" , self.a * self.b)\n",
    "        \n",
    "aopr = ArithOperation(10, 20)"
   ]
  },
  {
   "cell_type": "code",
   "execution_count": 19,
   "metadata": {},
   "outputs": [
    {
     "name": "stdout",
     "output_type": "stream",
     "text": [
      "Addition :  30\n"
     ]
    }
   ],
   "source": [
    "aopr.addNumbers()"
   ]
  },
  {
   "cell_type": "code",
   "execution_count": 20,
   "metadata": {},
   "outputs": [
    {
     "name": "stdout",
     "output_type": "stream",
     "text": [
      "Multiplication :  200\n"
     ]
    }
   ],
   "source": [
    "aopr.multiNumbers()"
   ]
  },
  {
   "cell_type": "code",
   "execution_count": 21,
   "metadata": {},
   "outputs": [
    {
     "data": {
      "text/plain": [
       "True"
      ]
     },
     "execution_count": 21,
     "metadata": {},
     "output_type": "execute_result"
    }
   ],
   "source": [
    "hasattr(aopr, \"a\")"
   ]
  },
  {
   "cell_type": "code",
   "execution_count": 22,
   "metadata": {},
   "outputs": [
    {
     "data": {
      "text/plain": [
       "False"
      ]
     },
     "execution_count": 22,
     "metadata": {},
     "output_type": "execute_result"
    }
   ],
   "source": [
    "hasattr(aopr, \"aa\")"
   ]
  },
  {
   "cell_type": "code",
   "execution_count": 23,
   "metadata": {},
   "outputs": [],
   "source": [
    "setattr(aopr, \"c\", 30)"
   ]
  },
  {
   "cell_type": "code",
   "execution_count": 24,
   "metadata": {},
   "outputs": [],
   "source": [
    "delattr(aopr, \"c\")"
   ]
  },
  {
   "cell_type": "code",
   "execution_count": 25,
   "metadata": {},
   "outputs": [],
   "source": [
    "aopr1 = ArithOperation(10, 20)\n",
    "aopr2 = ArithOperation(30, 40)"
   ]
  },
  {
   "cell_type": "code",
   "execution_count": 26,
   "metadata": {},
   "outputs": [],
   "source": [
    "setattr(aopr1, \"c\", 30)"
   ]
  },
  {
   "cell_type": "code",
   "execution_count": 30,
   "metadata": {},
   "outputs": [
    {
     "name": "stdout",
     "output_type": "stream",
     "text": [
      "Child Object Initialised.\n"
     ]
    }
   ],
   "source": [
    "class Parent:\n",
    "    def __init__(self):\n",
    "        print(\"Parent Object Initialised.\")\n",
    "    def ParentFunc(self):\n",
    "        print(\"Parent Function got executed.\")\n",
    "\n",
    "class Child(Parent):\n",
    "    def __init__(self):\n",
    "        print(\"Child Object Initialised.\")\n",
    "    def ChildFunc(self):\n",
    "        print(\"Child Function got executed.\")\n",
    "\n",
    "\n",
    "cc = Child()"
   ]
  },
  {
   "cell_type": "code",
   "execution_count": 7,
   "metadata": {},
   "outputs": [],
   "source": [
    "class Car:\n",
    "    def __init__(self, make, year, model):\n",
    "        self.make  = make\n",
    "        self.model = model\n",
    "        self.year  = year\n",
    "    def getCarDetails(self):\n",
    "        print(\"Make : \" ,  self.make)\n",
    "        print(\"Model : \" , self.model)\n",
    "        print(\"Year : \" ,  self.year)\n",
    "\n",
    "class ElectricCar(Car):\n",
    "    def __init__(self, make, year, model, battery, mileage):\n",
    "        super().__init__(make, year, model)\n",
    "        self.battery = battery\n",
    "        self.mileage = mileage\n",
    "    def getElectCarDetails(self):\n",
    "        print(\"Make : \" ,  self.make)\n",
    "        print(\"Model : \" , self.model)\n",
    "        print(\"Year : \" ,  self.year)\n",
    "        print(\"Battery : \" ,  self.battery)  \n",
    "        print(\"Mileage : \" ,  self.mileage)\n",
    "\n",
    "ec = ElectricCar(\"Mahindra\", 2015, \"E2\", 4, 35)"
   ]
  },
  {
   "cell_type": "code",
   "execution_count": 8,
   "metadata": {},
   "outputs": [
    {
     "name": "stdout",
     "output_type": "stream",
     "text": [
      "Make :  Mahindra\n",
      "Model :  E2\n",
      "Year :  2015\n",
      "Battery :  4\n",
      "Mileage :  35\n"
     ]
    }
   ],
   "source": [
    "ec.getElectCarDetails()"
   ]
  },
  {
   "cell_type": "code",
   "execution_count": 12,
   "metadata": {},
   "outputs": [
    {
     "name": "stdout",
     "output_type": "stream",
     "text": [
      "rollno  23\n",
      "student  kailash\n",
      "college  xyz\n",
      "rollno  24\n",
      "student  singh\n",
      "college  xyz\n"
     ]
    }
   ],
   "source": [
    "class student:\n",
    "    clg=\"xyz\"\n",
    "\n",
    "    def __init__(self,rollno,name):\n",
    "        self.rollno=rollno\n",
    "        self.name=name\n",
    "    \n",
    "    def display(self):\n",
    "        print(\"rollno \",self.rollno)\n",
    "        print(\"student \",self.name)\n",
    "        print(\"college \",student.clg)\n",
    "    \n",
    "student2=student(23,\"kailash\")\n",
    "student2.display()\n",
    "\n",
    "student2=student(24,\"singh\")\n",
    "student2.display()"
   ]
  },
  {
   "cell_type": "code",
   "execution_count": 14,
   "metadata": {},
   "outputs": [
    {
     "name": "stdout",
     "output_type": "stream",
     "text": [
      "eating\n",
      "bark\n"
     ]
    }
   ],
   "source": [
    "class animal:\n",
    "    def eating(self):\n",
    "        print(\"eating\")\n",
    "\n",
    "class dog(animal):\n",
    "    def bark(self):\n",
    "        print(\"bark\")\n",
    "        \n",
    "k=dog()\n",
    "k.eating()\n",
    "k.bark()"
   ]
  },
  {
   "cell_type": "code",
   "execution_count": 15,
   "metadata": {},
   "outputs": [
    {
     "name": "stdout",
     "output_type": "stream",
     "text": [
      "babydog\n"
     ]
    }
   ],
   "source": [
    "class animal:\n",
    "    def __init__(self,name):\n",
    "        self.name=name\n",
    "        \n",
    "class dog(animal):\n",
    "    def display(self):\n",
    "        print(self.name)\n",
    "        \n",
    "d=dog(\"babydog\")\n",
    "d.display()\n",
    "        "
   ]
  },
  {
   "cell_type": "code",
   "execution_count": 17,
   "metadata": {},
   "outputs": [
    {
     "name": "stdout",
     "output_type": "stream",
     "text": [
      "read the code\n",
      "write the code\n",
      "execute the code\n"
     ]
    }
   ],
   "source": [
    "class person:\n",
    "    def read(self):\n",
    "        print(\"read the code\")\n",
    "\n",
    "class employee(person):\n",
    "    def write(self):\n",
    "        print(\"write the code\")\n",
    "        \n",
    "class programmer(employee):\n",
    "    def execute(self):\n",
    "        print(\"execute the code\")\n",
    "        \n",
    "pro=programmer()\n",
    "pro.read()\n",
    "pro.write()\n",
    "pro.execute()"
   ]
  },
  {
   "cell_type": "code",
   "execution_count": 18,
   "metadata": {},
   "outputs": [
    {
     "name": "stdout",
     "output_type": "stream",
     "text": [
      "read the code\n",
      "write the code\n"
     ]
    }
   ],
   "source": [
    "class person:\n",
    "    def read(self):\n",
    "        print(\"read the code\")\n",
    "\n",
    "class employee():\n",
    "    def write(self):\n",
    "        print(\"write the code\")\n",
    "        \n",
    "class programmer(person,employee):\n",
    "    pass\n",
    "\n",
    "pro2=programmer()\n",
    "pro2.read()\n",
    "pro2.write()"
   ]
  },
  {
   "cell_type": "code",
   "execution_count": null,
   "metadata": {},
   "outputs": [],
   "source": []
  }
 ],
 "metadata": {
  "kernelspec": {
   "display_name": "Python 3",
   "language": "python",
   "name": "python3"
  },
  "language_info": {
   "codemirror_mode": {
    "name": "ipython",
    "version": 3
   },
   "file_extension": ".py",
   "mimetype": "text/x-python",
   "name": "python",
   "nbconvert_exporter": "python",
   "pygments_lexer": "ipython3",
   "version": "3.6.5"
  }
 },
 "nbformat": 4,
 "nbformat_minor": 2
}
