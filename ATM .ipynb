{
 "cells": [
  {
   "cell_type": "code",
   "execution_count": 1,
   "metadata": {},
   "outputs": [
    {
     "name": "stdout",
     "output_type": "stream",
     "text": [
      "1 for deposit\n",
      "2 for withdrawl\n",
      "3 for checkbalance\n",
      "press c for continue and @ for end the transaction1\n",
      "enter the choice1234\n"
     ]
    }
   ],
   "source": [
    "class account:\n",
    "    def __init__(self):\n",
    "        self.bal=0\n",
    "        print(\"1 for deposit\")\n",
    "        print(\"2 for withdrawl\")\n",
    "        print(\"3 for checkbalance\")\n",
    "        \n",
    "    def deposit(self):\n",
    "        deposit=int(input(\"enter amount to be deposited\"))\n",
    "        self.bal=self.bal+deposit\n",
    "    \n",
    "    def withdrawl(self):\n",
    "        withdrawl=int(input(\"enter withdrawl amount\"))\n",
    "        self.bal=self.bal-withdrawl\n",
    "        \n",
    "    def checkbal(self):\n",
    "        checkbal=self.bal\n",
    "        print(checkbal)\n",
    "        \n",
    "o1=account()\n",
    "a=str\n",
    "a=input(\"press c for continue and @ for end the transaction\")\n",
    "while(a!=\"@\"):\n",
    "    i=input(\"enter the choice\")\n",
    "    if i==1 and i!=\"@\":\n",
    "        o1.deposit()\n",
    "    elif i==2 and i!=\"@\":\n",
    "        o1.withdrawl()\n",
    "    elif i==3 and i!=\"@\":\n",
    "        o1.checkbal()\n",
    "    else:\n",
    "        break\n",
    "    #print(\"inappropriate option chosen\")\n",
    "    "
   ]
  },
  {
   "cell_type": "code",
   "execution_count": null,
   "metadata": {},
   "outputs": [],
   "source": []
  }
 ],
 "metadata": {
  "kernelspec": {
   "display_name": "Python 3",
   "language": "python",
   "name": "python3"
  },
  "language_info": {
   "codemirror_mode": {
    "name": "ipython",
    "version": 3
   },
   "file_extension": ".py",
   "mimetype": "text/x-python",
   "name": "python",
   "nbconvert_exporter": "python",
   "pygments_lexer": "ipython3",
   "version": "3.6.5"
  }
 },
 "nbformat": 4,
 "nbformat_minor": 2
}
